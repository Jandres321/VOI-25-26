{
 "cells": [
  {
   "cell_type": "markdown",
   "id": "ec3e6b7c",
   "metadata": {},
   "source": [
    "# **Sesión 1:** Introducción a OpenCV y Espacios de color ⚙️🖼️ "
   ]
  },
  {
   "cell_type": "markdown",
   "id": "50bf56a9",
   "metadata": {},
   "source": [
    "## 0. Preparación"
   ]
  },
  {
   "cell_type": "code",
   "execution_count": null,
   "id": "089402ed",
   "metadata": {},
   "outputs": [],
   "source": [
    "%pip install numpy==1.26 opencv-python==4.8.0.76 imageio matplotlib scikit-image\n",
    "\n",
    "import cv2, numpy as np, matplotlib.pyplot as plt\n",
    "import os\n",
    "import cv2\n",
    "import imageio\n",
    "import numpy as np\n",
    "from typing import List\n",
    "from utils import get_hsv_color_ranges\n",
    "import glob"
   ]
  },
  {
   "cell_type": "markdown",
   "id": "f27dd4e2",
   "metadata": {},
   "source": [
    "## **Apartado A: Segmentación por color**"
   ]
  },
  {
   "cell_type": "markdown",
   "id": "346b9745",
   "metadata": {},
   "source": [
    "El objetivo de este apartado es segmentar los colores naranja y blanco de las imágenes en la carpeta ``data``.\n",
    "\n",
    "1. **Tarea A.1**. Defina y ejecute el método para cargar imágenes ``load_imgs()``.\n",
    "2. **Tarea A.2.** Defina los métodos ``show_image()`` y ``write_image()`` para visualizar y guardar imágenes.\n",
    "3. **Tarea A.3.** Cambia el espacio de color de las imágenes a uno donde la crominancia y la intensidad estén separados (HSV).\n",
    "4. **Tarea A.4.** Segmenta los colores anaranjados.\n",
    "5. **Tarea A.5.** Segmenta los colores blancos.\n",
    "6. **Tarea A.6.** Junta las máscaras para cada imagen (naranja + blanco) y segmenta cada una de ellas.\n",
    "7. **Tarea A.7.** Guarda las imágenes.\n"
   ]
  },
  {
   "cell_type": "markdown",
   "id": "f0bfa42b",
   "metadata": {},
   "source": [
    "### **Tarea A.1:** Defina y ejecute el método para cargar imágenes ``load_images()``"
   ]
  },
  {
   "cell_type": "code",
   "execution_count": 18,
   "id": "cb90c169",
   "metadata": {},
   "outputs": [],
   "source": [
    "def load_images(filenames: List) -> List:\n",
    "    return [cv2.imread(filename) for filename in filenames]"
   ]
  },
  {
   "cell_type": "code",
   "execution_count": 20,
   "id": "e9511ad8",
   "metadata": {},
   "outputs": [],
   "source": [
    "# TODO Build a list containing the paths of all images in the data folder\n",
    "imgs_path = []\n",
    "imgs = load_images(imgs_path)"
   ]
  },
  {
   "cell_type": "markdown",
   "id": "059344e8",
   "metadata": {},
   "source": [
    "### **Tarea A.2**. Defina los métodos ``show_image()`` y ``write_image()`` para visualizar y guardar imágenes"
   ]
  },
  {
   "cell_type": "code",
   "execution_count": 21,
   "id": "5773cb22",
   "metadata": {},
   "outputs": [],
   "source": [
    "# TODO Complete the method, use every argument\n",
    "def show_image(img: np.array, img_name: str = \"Image\"):\n",
    "    cv2.imshow()\n",
    "    cv2.waitKey()\n",
    "    cv2.destroyAllWindows()\n",
    "\n",
    "# TODO Complete the method, use every argument\n",
    "def write_image(output_folder: str, img_name: str, img: np.array):\n",
    "    img_path = os.path.join()\n",
    "    cv2.imwrite()"
   ]
  },
  {
   "cell_type": "markdown",
   "id": "7937eb87",
   "metadata": {},
   "source": [
    "### **Tarea A.3:** Cambie el espacio de color de las imágenes a uno donde la crominancia y la intensidad estén separados (HSV)"
   ]
  },
  {
   "cell_type": "code",
   "execution_count": null,
   "id": "20c33992",
   "metadata": {},
   "outputs": [],
   "source": [
    "# TODO Get a list with ìmgs in HSV color space\n",
    "hsv_imgs = cv2.cvtColor()"
   ]
  },
  {
   "cell_type": "markdown",
   "id": "1882be73",
   "metadata": {},
   "source": [
    "### **Tarea A.4:** Segmente los colores anaranjados"
   ]
  },
  {
   "cell_type": "code",
   "execution_count": null,
   "id": "4fee44ea",
   "metadata": {},
   "outputs": [],
   "source": [
    "# TODO Define orange color range\n",
    "light_orange = (None, None, None)\n",
    "dark_orange = (None, None, None)\n",
    "\n",
    "# TODO Compute a list that contains a mask (which should segment orange colors) for every image.\n",
    "orange_masks = cv2.inRange()\n",
    "\n",
    "# TODO Compute a list that contains the result of multiplying the original image with its orange colors mask.\n",
    "orange_segmented = cv2.bitwise_and()\n",
    "\n",
    "# TODO Show an original image\n",
    "show_image()\n",
    "\n",
    "# TODO Show a mask\n",
    "show_image()\n",
    "\n",
    "# TODO Show a segmented image\n",
    "show_image()"
   ]
  },
  {
   "cell_type": "markdown",
   "id": "12e26e47",
   "metadata": {},
   "source": [
    "### **Tarea A.5:** Segmente los colores blancos."
   ]
  },
  {
   "cell_type": "markdown",
   "id": "a0283e8c",
   "metadata": {},
   "source": [
    "Para detectar el rango de blancos complete la siguiente celda y ejecutela para investigar el rango de valores necesarios."
   ]
  },
  {
   "cell_type": "code",
   "execution_count": null,
   "id": "9a5e1c1a",
   "metadata": {},
   "outputs": [],
   "source": [
    "# TODO Discover white color ranges\n",
    "get_hsv_color_ranges(None)\n",
    "\n",
    "# TODO Define white color range\n",
    "light_white = (None, None, None)\n",
    "dark_white = (None, None, None)\n",
    "\n",
    "# TODO Compute a list that contains a mask (which should segment white colors) for every image.\n",
    "white_masks = cv2.inRange()\n",
    "\n",
    "# TODO Compute a list that contains the result of multiplying the original image with its white colors mask.\n",
    "white_segmented = cv2.bitwise_and()\n",
    "\n",
    "# TODO Show an original image\n",
    "show_image()\n",
    "\n",
    "# TODO Show a mask\n",
    "show_image()\n",
    "\n",
    "# TODO Show a segmented image\n",
    "show_image()"
   ]
  },
  {
   "cell_type": "markdown",
   "id": "a2c7153e",
   "metadata": {},
   "source": [
    "### **Tarea A.6:** Junte las máscaras para cada imagen (naranja + blanco) y segmente cada una de ellas."
   ]
  },
  {
   "cell_type": "code",
   "execution_count": null,
   "id": "7288c4c1",
   "metadata": {},
   "outputs": [],
   "source": [
    "# TODO Join orange_masks and white_masks\n",
    "fish_masks = None\n",
    "    \n",
    "# TODO Compute a list that contains the result of multiplying the original image with its complete mask.\n",
    "fish = cv2.bitwise_and()\n",
    "\n",
    "# TODO Show an original image\n",
    "show_image()\n",
    "\n",
    "# TODO Show a mask\n",
    "show_image()\n",
    "\n",
    "# TODO Show a segmented image\n",
    "show_image()"
   ]
  },
  {
   "cell_type": "markdown",
   "id": "dd5f5cc4",
   "metadata": {},
   "source": [
    "### **Tarea A.7:** Guarde las imágenes"
   ]
  },
  {
   "cell_type": "code",
   "execution_count": null,
   "id": "03982169",
   "metadata": {},
   "outputs": [],
   "source": [
    "# TODO Define your output folder and save every fish image\n",
    "output_folder = None\n",
    "write_image(output_folder=None, img_name=None, img=None)"
   ]
  },
  {
   "cell_type": "markdown",
   "id": "efa0dbf1",
   "metadata": {},
   "source": [
    "### **Pregunta A.1:** Segmente por color el escudo de su equipo deportivo favorito: descompóngalo en al menos 2 colores. "
   ]
  },
  {
   "cell_type": "code",
   "execution_count": null,
   "id": "fa4ff07d",
   "metadata": {},
   "outputs": [],
   "source": [
    "# TODO Homework"
   ]
  },
  {
   "cell_type": "markdown",
   "id": "9427b159",
   "metadata": {},
   "source": [
    "### **Pregunta A.2:** ¿Qué ocurre si carga las imágenes con la función ``imageio.read()`` y luego la muestra con el método ``show_image()``? ¿A qué se debe este comportamiento?"
   ]
  },
  {
   "cell_type": "code",
   "execution_count": null,
   "id": "af3ae60c",
   "metadata": {},
   "outputs": [],
   "source": [
    "def load_images(filenames: List) -> List:\n",
    "    return [imageio.imread(filename) for filename in filenames]\n",
    "\n",
    "# TODO Homework: Load images\n",
    "question_imgs = load_images(None)\n",
    "\n",
    "\n",
    "# TODO Homework: Show it\n",
    "show_image(None)"
   ]
  }
 ],
 "metadata": {
  "kernelspec": {
   "display_name": ".venv",
   "language": "python",
   "name": "python3"
  },
  "language_info": {
   "codemirror_mode": {
    "name": "ipython",
    "version": 3
   },
   "file_extension": ".py",
   "mimetype": "text/x-python",
   "name": "python",
   "nbconvert_exporter": "python",
   "pygments_lexer": "ipython3",
   "version": "3.11.9"
  }
 },
 "nbformat": 4,
 "nbformat_minor": 5
}
